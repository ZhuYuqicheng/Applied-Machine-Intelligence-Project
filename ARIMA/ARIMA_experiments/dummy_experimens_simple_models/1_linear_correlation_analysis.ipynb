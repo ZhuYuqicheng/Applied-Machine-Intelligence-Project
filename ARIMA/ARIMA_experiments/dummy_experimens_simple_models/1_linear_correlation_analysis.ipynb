{
 "cells": [
  {
   "cell_type": "code",
   "execution_count": 5,
   "metadata": {},
   "outputs": [],
   "source": [
    "import pandas as pd\n",
    "import numpy as np\n",
    "from numpy import log\n",
    "import matplotlib\n",
    "import seaborn as sns\n",
    "import matplotlib.pyplot as plt"
   ]
  },
  {
   "cell_type": "code",
   "execution_count": 6,
   "metadata": {},
   "outputs": [
    {
     "data": {
      "text/html": [
       "<div>\n",
       "<style scoped>\n",
       "    .dataframe tbody tr th:only-of-type {\n",
       "        vertical-align: middle;\n",
       "    }\n",
       "\n",
       "    .dataframe tbody tr th {\n",
       "        vertical-align: top;\n",
       "    }\n",
       "\n",
       "    .dataframe thead th {\n",
       "        text-align: right;\n",
       "    }\n",
       "</style>\n",
       "<table border=\"1\" class=\"dataframe\">\n",
       "  <thead>\n",
       "    <tr style=\"text-align: right;\">\n",
       "      <th></th>\n",
       "      <th>Date</th>\n",
       "      <th>Time of day</th>\n",
       "      <th>Biomass[MWh]</th>\n",
       "      <th>Hydropower[MWh]</th>\n",
       "      <th>Wind offshore[MWh]</th>\n",
       "      <th>Wind onshore[MWh]</th>\n",
       "      <th>Photovoltaics[MWh]</th>\n",
       "      <th>Other renewable[MWh]</th>\n",
       "      <th>Nuclear[MWh]</th>\n",
       "      <th>Fossil brown coal[MWh]</th>\n",
       "      <th>...</th>\n",
       "      <th>Residual load[MWh]</th>\n",
       "      <th>Lufttemp.+200cm</th>\n",
       "      <th>Lufttemp.+20cm</th>\n",
       "      <th>Bodentemp.-5cm</th>\n",
       "      <th>Bodentemp.-20cm</th>\n",
       "      <th>Luftfeuchtigkeit+200cm</th>\n",
       "      <th>Windgeschw.+250cm</th>\n",
       "      <th>Niederschlag</th>\n",
       "      <th>Globalstrahlg.+200cm</th>\n",
       "      <th>Spot price</th>\n",
       "    </tr>\n",
       "  </thead>\n",
       "  <tbody>\n",
       "    <tr>\n",
       "      <th>0</th>\n",
       "      <td>2015/1/1</td>\n",
       "      <td>0</td>\n",
       "      <td>1006.25</td>\n",
       "      <td>289.75</td>\n",
       "      <td>129.25</td>\n",
       "      <td>2032.00</td>\n",
       "      <td>0.0</td>\n",
       "      <td>33.00</td>\n",
       "      <td>2677.75</td>\n",
       "      <td>3922.00</td>\n",
       "      <td>...</td>\n",
       "      <td>1380.75</td>\n",
       "      <td>2.9</td>\n",
       "      <td>2.0</td>\n",
       "      <td>3.1</td>\n",
       "      <td>3.4</td>\n",
       "      <td>100.0</td>\n",
       "      <td>1.5</td>\n",
       "      <td>0.0</td>\n",
       "      <td>39.0</td>\n",
       "      <td>25.02</td>\n",
       "    </tr>\n",
       "    <tr>\n",
       "      <th>1</th>\n",
       "      <td>2015/1/1</td>\n",
       "      <td>1</td>\n",
       "      <td>995.75</td>\n",
       "      <td>297.00</td>\n",
       "      <td>129.00</td>\n",
       "      <td>2074.25</td>\n",
       "      <td>0.0</td>\n",
       "      <td>30.75</td>\n",
       "      <td>2771.50</td>\n",
       "      <td>3830.75</td>\n",
       "      <td>...</td>\n",
       "      <td>1229.75</td>\n",
       "      <td>2.9</td>\n",
       "      <td>2.0</td>\n",
       "      <td>3.1</td>\n",
       "      <td>3.4</td>\n",
       "      <td>100.0</td>\n",
       "      <td>1.5</td>\n",
       "      <td>0.0</td>\n",
       "      <td>39.0</td>\n",
       "      <td>18.29</td>\n",
       "    </tr>\n",
       "    <tr>\n",
       "      <th>2</th>\n",
       "      <td>2015/1/1</td>\n",
       "      <td>2</td>\n",
       "      <td>1005.00</td>\n",
       "      <td>284.75</td>\n",
       "      <td>128.50</td>\n",
       "      <td>2135.25</td>\n",
       "      <td>0.0</td>\n",
       "      <td>23.50</td>\n",
       "      <td>2756.50</td>\n",
       "      <td>3704.50</td>\n",
       "      <td>...</td>\n",
       "      <td>1126.25</td>\n",
       "      <td>2.9</td>\n",
       "      <td>2.0</td>\n",
       "      <td>3.1</td>\n",
       "      <td>3.4</td>\n",
       "      <td>100.0</td>\n",
       "      <td>1.5</td>\n",
       "      <td>0.0</td>\n",
       "      <td>39.0</td>\n",
       "      <td>16.04</td>\n",
       "    </tr>\n",
       "    <tr>\n",
       "      <th>3</th>\n",
       "      <td>2015/1/1</td>\n",
       "      <td>3</td>\n",
       "      <td>1010.50</td>\n",
       "      <td>280.50</td>\n",
       "      <td>129.75</td>\n",
       "      <td>2138.25</td>\n",
       "      <td>0.0</td>\n",
       "      <td>22.00</td>\n",
       "      <td>2757.00</td>\n",
       "      <td>3518.75</td>\n",
       "      <td>...</td>\n",
       "      <td>1141.00</td>\n",
       "      <td>2.9</td>\n",
       "      <td>2.0</td>\n",
       "      <td>3.1</td>\n",
       "      <td>3.4</td>\n",
       "      <td>100.0</td>\n",
       "      <td>1.5</td>\n",
       "      <td>0.0</td>\n",
       "      <td>39.0</td>\n",
       "      <td>14.60</td>\n",
       "    </tr>\n",
       "    <tr>\n",
       "      <th>4</th>\n",
       "      <td>2015/1/1</td>\n",
       "      <td>4</td>\n",
       "      <td>1009.75</td>\n",
       "      <td>278.00</td>\n",
       "      <td>130.00</td>\n",
       "      <td>2161.00</td>\n",
       "      <td>0.0</td>\n",
       "      <td>22.00</td>\n",
       "      <td>2740.75</td>\n",
       "      <td>3529.00</td>\n",
       "      <td>...</td>\n",
       "      <td>1170.25</td>\n",
       "      <td>2.9</td>\n",
       "      <td>2.0</td>\n",
       "      <td>3.1</td>\n",
       "      <td>3.4</td>\n",
       "      <td>100.0</td>\n",
       "      <td>1.5</td>\n",
       "      <td>0.0</td>\n",
       "      <td>39.0</td>\n",
       "      <td>14.95</td>\n",
       "    </tr>\n",
       "  </tbody>\n",
       "</table>\n",
       "<p>5 rows × 25 columns</p>\n",
       "</div>"
      ],
      "text/plain": [
       "       Date  Time of day  Biomass[MWh]  Hydropower[MWh]  Wind offshore[MWh]  \\\n",
       "0  2015/1/1            0       1006.25           289.75              129.25   \n",
       "1  2015/1/1            1        995.75           297.00              129.00   \n",
       "2  2015/1/1            2       1005.00           284.75              128.50   \n",
       "3  2015/1/1            3       1010.50           280.50              129.75   \n",
       "4  2015/1/1            4       1009.75           278.00              130.00   \n",
       "\n",
       "   Wind onshore[MWh]  Photovoltaics[MWh]  Other renewable[MWh]  Nuclear[MWh]  \\\n",
       "0            2032.00                 0.0                 33.00       2677.75   \n",
       "1            2074.25                 0.0                 30.75       2771.50   \n",
       "2            2135.25                 0.0                 23.50       2756.50   \n",
       "3            2138.25                 0.0                 22.00       2757.00   \n",
       "4            2161.00                 0.0                 22.00       2740.75   \n",
       "\n",
       "   Fossil brown coal[MWh]  ...  Residual load[MWh]  Lufttemp.+200cm  \\\n",
       "0                 3922.00  ...             1380.75              2.9   \n",
       "1                 3830.75  ...             1229.75              2.9   \n",
       "2                 3704.50  ...             1126.25              2.9   \n",
       "3                 3518.75  ...             1141.00              2.9   \n",
       "4                 3529.00  ...             1170.25              2.9   \n",
       "\n",
       "   Lufttemp.+20cm  Bodentemp.-5cm  Bodentemp.-20cm  Luftfeuchtigkeit+200cm  \\\n",
       "0             2.0             3.1              3.4                   100.0   \n",
       "1             2.0             3.1              3.4                   100.0   \n",
       "2             2.0             3.1              3.4                   100.0   \n",
       "3             2.0             3.1              3.4                   100.0   \n",
       "4             2.0             3.1              3.4                   100.0   \n",
       "\n",
       "   Windgeschw.+250cm  Niederschlag  Globalstrahlg.+200cm  Spot price  \n",
       "0                1.5           0.0                  39.0       25.02  \n",
       "1                1.5           0.0                  39.0       18.29  \n",
       "2                1.5           0.0                  39.0       16.04  \n",
       "3                1.5           0.0                  39.0       14.60  \n",
       "4                1.5           0.0                  39.0       14.95  \n",
       "\n",
       "[5 rows x 25 columns]"
      ]
     },
     "execution_count": 6,
     "metadata": {},
     "output_type": "execute_result"
    }
   ],
   "source": [
    "csv_data = pd.read_csv('C:/Users/暴脾气の尧/Desktop/#TUM 2 SEMESTER/Applied Machine Intelligence/elec_forecast.csv')\n",
    "#C:/Users/U388316/OneDrive - Danfoss/Desktop/usb_tum/ami/Han-20210616T220428Z-001/Han/elec_forecast.csv\n",
    "csv_data.head()"
   ]
  },
  {
   "cell_type": "code",
   "execution_count": 7,
   "metadata": {},
   "outputs": [
    {
     "data": {
      "text/plain": [
       "Date                          True\n",
       "Time of day                  False\n",
       "Biomass[MWh]                 False\n",
       "Hydropower[MWh]              False\n",
       "Wind offshore[MWh]           False\n",
       "Wind onshore[MWh]            False\n",
       "Photovoltaics[MWh]           False\n",
       "Other renewable[MWh]         False\n",
       "Nuclear[MWh]                 False\n",
       "Fossil brown coal[MWh]       False\n",
       "Fossil hard coal[MWh]        False\n",
       "Fossil gas[MWh]              False\n",
       "Hydro pumped storage[MWh]    False\n",
       "Other conventional[MWh]      False\n",
       "Total[MWh]                   False\n",
       "Residual load[MWh]           False\n",
       "Lufttemp.+200cm              False\n",
       "Lufttemp.+20cm               False\n",
       "Bodentemp.-5cm               False\n",
       "Bodentemp.-20cm              False\n",
       "Luftfeuchtigkeit+200cm       False\n",
       "Windgeschw.+250cm            False\n",
       "Niederschlag                 False\n",
       "Globalstrahlg.+200cm         False\n",
       "Spot price                   False\n",
       "dtype: bool"
      ]
     },
     "execution_count": 7,
     "metadata": {},
     "output_type": "execute_result"
    }
   ],
   "source": [
    "csv_data.dtypes == 'object'"
   ]
  },
  {
   "cell_type": "code",
   "execution_count": 8,
   "metadata": {},
   "outputs": [
    {
     "data": {
      "text/plain": [
       "Date                            0\n",
       "Time of day                     0\n",
       "Biomass[MWh]                   96\n",
       "Hydropower[MWh]                96\n",
       "Wind offshore[MWh]             76\n",
       "Wind onshore[MWh]              77\n",
       "Photovoltaics[MWh]            100\n",
       "Other renewable[MWh]           96\n",
       "Nuclear[MWh]                   96\n",
       "Fossil brown coal[MWh]         72\n",
       "Fossil hard coal[MWh]          96\n",
       "Fossil gas[MWh]                96\n",
       "Hydro pumped storage[MWh]      96\n",
       "Other conventional[MWh]        96\n",
       "Total[MWh]                      0\n",
       "Residual load[MWh]           1690\n",
       "Lufttemp.+200cm               720\n",
       "Lufttemp.+20cm                720\n",
       "Bodentemp.-5cm                720\n",
       "Bodentemp.-20cm               720\n",
       "Luftfeuchtigkeit+200cm        720\n",
       "Windgeschw.+250cm             720\n",
       "Niederschlag                  720\n",
       "Globalstrahlg.+200cm          720\n",
       "Spot price                      0\n",
       "dtype: int64"
      ]
     },
     "execution_count": 8,
     "metadata": {},
     "output_type": "execute_result"
    }
   ],
   "source": [
    "csv_data.isnull().sum()"
   ]
  },
  {
   "cell_type": "code",
   "execution_count": 9,
   "metadata": {},
   "outputs": [
    {
     "name": "stdout",
     "output_type": "stream",
     "text": [
      "Precharge Top Absolute Correlations\n",
      "Lufttemp.+200cm  Lufttemp.+20cm          0.999716\n",
      "Bodentemp.-5cm   Bodentemp.-20cm         0.999263\n",
      "Lufttemp.+200cm  Bodentemp.-20cm         0.995002\n",
      "Lufttemp.+20cm   Bodentemp.-20cm         0.993970\n",
      "Lufttemp.+200cm  Bodentemp.-5cm          0.993381\n",
      "Lufttemp.+20cm   Bodentemp.-5cm          0.991493\n",
      "Lufttemp.+200cm  Globalstrahlg.+200cm    0.954796\n",
      "Lufttemp.+20cm   Globalstrahlg.+200cm    0.954112\n",
      "Bodentemp.-5cm   Globalstrahlg.+200cm    0.949073\n",
      "Bodentemp.-20cm  Globalstrahlg.+200cm    0.947917\n",
      "dtype: float64\n"
     ]
    },
    {
     "data": {
      "image/png": "[encoded data removed]",
      "text/plain": [
       "<Figure size 1440x720 with 2 Axes>"
      ]
     },
     "metadata": {
      "needs_background": "light"
     },
     "output_type": "display_data"
    }
   ],
   "source": [
    "def plot_correlation_matrix(corr_mat):\n",
    "    plt.figure(figsize=(20,10))\n",
    "    ax = sns.heatmap(\n",
    "        corr_mat2, \n",
    "        vmin=-1, vmax=1, center=0,\n",
    "        cmap=sns.diverging_palette(20, 220, n=200),\n",
    "        square=True,\n",
    "        )\n",
    "\n",
    "# Correlation in Percentage\n",
    "def get_redundant_pairs(df):\n",
    "    '''Get diagonal and lower triangular pairs of correlation matrix'''\n",
    "    pairs_to_drop = set()\n",
    "    cols = df.columns\n",
    "    for i in range(0, df.shape[1]):\n",
    "        for j in range(0, i+1):\n",
    "            pairs_to_drop.add((cols[i], cols[j]))\n",
    "    return pairs_to_drop\n",
    "\n",
    "def get_top_abs_correlations(df, n=5):\n",
    "    au_corr = df.corr().abs().unstack()\n",
    "    labels_to_drop = get_redundant_pairs(df)\n",
    "    au_corr = au_corr.drop(labels=labels_to_drop).sort_values(ascending=False)\n",
    "    return au_corr[0:n]\n",
    "\n",
    "corr_mat2 = csv_data.corr(method='pearson')\n",
    "plot_correlation_matrix(corr_mat2)\n",
    "\n",
    "print(\"Precharge Top Absolute Correlations\")\n",
    "print(get_top_abs_correlations(corr_mat2, 10))"
   ]
  },
  {
   "cell_type": "markdown",
   "metadata": {},
   "source": [
    "# Erase features that have low correlation with labels\n",
    "\n",
    "'Photovoltaics[MWh]',\n",
    "'Nuclear[MWh]',\n",
    "'Other conventional[MWh]',\n",
    "'Lufttemp.+200cm',\n",
    "'Lufttemp.+20cm',\n",
    "'Bodentemp.-5cm',\n",
    "'Bodentemp.-20cm',\n",
    "'Luftfeuchtigkeit+200cm',\n",
    "'Niederschlag',\n",
    "'Globalstrahlg.+200cm'"
   ]
  },
  {
   "cell_type": "code",
   "execution_count": 10,
   "metadata": {},
   "outputs": [],
   "source": [
    "csv_data =csv_data.drop(['Photovoltaics[MWh]','Nuclear[MWh]','Other conventional[MWh]','Lufttemp.+200cm','Lufttemp.+20cm','Bodentemp.-5cm','Bodentemp.-20cm','Luftfeuchtigkeit+200cm','Niederschlag','Globalstrahlg.+200cm'],axis=1)"
   ]
  },
  {
   "cell_type": "code",
   "execution_count": 11,
   "metadata": {},
   "outputs": [
    {
     "name": "stdout",
     "output_type": "stream",
     "text": [
      "Precharge Top Absolute Correlations\n",
      "Wind onshore[MWh]       Residual load[MWh]        0.949825\n",
      "Fossil brown coal[MWh]  Fossil hard coal[MWh]     0.946792\n",
      "Fossil hard coal[MWh]   Residual load[MWh]        0.924877\n",
      "Fossil brown coal[MWh]  Residual load[MWh]        0.921535\n",
      "Wind offshore[MWh]      Wind onshore[MWh]         0.912012\n",
      "Biomass[MWh]            Other renewable[MWh]      0.864453\n",
      "Wind onshore[MWh]       Fossil brown coal[MWh]    0.850273\n",
      "Residual load[MWh]      Spot price                0.845680\n",
      "Wind offshore[MWh]      Residual load[MWh]        0.845599\n",
      "                        Fossil brown coal[MWh]    0.845098\n",
      "dtype: float64\n"
     ]
    }
   ],
   "source": [
    "corr_mat2 = csv_data.corr(method='pearson')\n",
    "print(\"Precharge Top Absolute Correlations\")\n",
    "print(get_top_abs_correlations(corr_mat2, 10))"
   ]
  },
  {
   "cell_type": "markdown",
   "metadata": {},
   "source": [
    "# Erase features that have high correlation with features\n",
    "\n",
    "remove Wind onshore[MWh], since Residual load[MWh] has higher correlation with labels;\n",
    "remove Fossil brown coal[MWh], since Fossil hard coal[MWh] has higher correlation with labels;\n",
    "remove Biomass[MWh], since Other renewable[MWh] has higher correlation with labels."
   ]
  },
  {
   "cell_type": "code",
   "execution_count": 12,
   "metadata": {},
   "outputs": [],
   "source": [
    "csv_data =csv_data.drop(['Wind onshore[MWh]','Fossil brown coal[MWh]','Biomass[MWh]'],axis=1)"
   ]
  },
  {
   "cell_type": "code",
   "execution_count": 13,
   "metadata": {},
   "outputs": [
    {
     "name": "stdout",
     "output_type": "stream",
     "text": [
      "Precharge Top Absolute Correlations\n",
      "Fossil hard coal[MWh]  Residual load[MWh]       0.904479\n",
      "Residual load[MWh]     Spot price               0.811561\n",
      "Wind offshore[MWh]     Residual load[MWh]       0.784913\n",
      "Fossil hard coal[MWh]  Spot price               0.780913\n",
      "Residual load[MWh]     Windgeschw.+250cm        0.758139\n",
      "Wind offshore[MWh]     Fossil hard coal[MWh]    0.716142\n",
      "Fossil hard coal[MWh]  Total[MWh]               0.682619\n",
      "Fossil gas[MWh]        Spot price               0.680999\n",
      "Total[MWh]             Spot price               0.629702\n",
      "Windgeschw.+250cm      Spot price               0.587639\n",
      "dtype: float64\n"
     ]
    }
   ],
   "source": [
    "corr_mat2 = csv_data.corr(method='pearson')\n",
    "print(\"Precharge Top Absolute Correlations\")\n",
    "print(get_top_abs_correlations(corr_mat2, 10))"
   ]
  },
  {
   "cell_type": "markdown",
   "metadata": {},
   "source": [
    "# Erase features that have high correlation with features\n",
    "\n",
    "remove Fossil hard coal[MWh], since Residual load[MWh] has higher correlation with labels;\n",
    "remove Wind offshore[MWh], since Residual load[MWh] has higher correlation with labels;\n",
    "remove Windgeschw.+250cm, since Residual load[MWh] has higher correlation with labels."
   ]
  },
  {
   "cell_type": "code",
   "execution_count": 14,
   "metadata": {},
   "outputs": [],
   "source": [
    "csv_data =csv_data.drop(['Fossil hard coal[MWh]','Wind offshore[MWh]','Windgeschw.+250cm'],axis=1)"
   ]
  },
  {
   "cell_type": "code",
   "execution_count": 15,
   "metadata": {},
   "outputs": [
    {
     "name": "stdout",
     "output_type": "stream",
     "text": [
      "Precharge Top Absolute Correlations\n",
      "Hydropower[MWh]       Fossil gas[MWh]         0.680120\n",
      "Residual load[MWh]    Spot price              0.679945\n",
      "Hydropower[MWh]       Total[MWh]              0.675624\n",
      "Fossil gas[MWh]       Spot price              0.673955\n",
      "Hydropower[MWh]       Spot price              0.665802\n",
      "                      Other renewable[MWh]    0.582664\n",
      "Total[MWh]            Spot price              0.523266\n",
      "Other renewable[MWh]  Fossil gas[MWh]         0.505115\n",
      "Fossil gas[MWh]       Total[MWh]              0.402285\n",
      "Hydropower[MWh]       Residual load[MWh]      0.322693\n",
      "dtype: float64\n"
     ]
    }
   ],
   "source": [
    "corr_mat2 = csv_data.corr(method='pearson')\n",
    "print(\"Precharge Top Absolute Correlations\")\n",
    "print(get_top_abs_correlations(corr_mat2, 10))"
   ]
  },
  {
   "cell_type": "markdown",
   "metadata": {},
   "source": [
    "# Erase features that have high correlation with features\n",
    "\n",
    "remove Hydropower[MWh], since Fossil gas[MWh] has higher correlation with labels;\n",
    "remove Other renewable[MWh], since Fossil gas[MWh] has higher correlation with labels;\n",
    "tho Fossil gas[MWh] and Total[MWh] are correlated (40%), both have higher correlation to labels (57%, 47%),\n",
    "Keep these bitches for a moment."
   ]
  },
  {
   "cell_type": "code",
   "execution_count": 16,
   "metadata": {},
   "outputs": [],
   "source": [
    "csv_data =csv_data.drop(['Hydropower[MWh]','Other renewable[MWh]'],axis=1)"
   ]
  },
  {
   "cell_type": "code",
   "execution_count": 17,
   "metadata": {},
   "outputs": [
    {
     "name": "stdout",
     "output_type": "stream",
     "text": [
      "Precharge Top Absolute Correlations\n",
      "Fossil gas[MWh]            Spot price                   0.545229\n",
      "Time of day                Fossil gas[MWh]              0.525364\n",
      "Residual load[MWh]         Spot price                   0.514233\n",
      "Time of day                Spot price                   0.511216\n",
      "                           Residual load[MWh]           0.467991\n",
      "Fossil gas[MWh]            Hydro pumped storage[MWh]    0.421099\n",
      "Hydro pumped storage[MWh]  Total[MWh]                   0.349078\n",
      "                           Spot price                   0.285536\n",
      "Time of day                Hydro pumped storage[MWh]    0.267546\n",
      "Hydro pumped storage[MWh]  Residual load[MWh]           0.250742\n",
      "dtype: float64\n"
     ]
    }
   ],
   "source": [
    "corr_mat2 = csv_data.corr(method='pearson')\n",
    "print(\"Precharge Top Absolute Correlations\")\n",
    "print(get_top_abs_correlations(corr_mat2, 10))"
   ]
  },
  {
   "cell_type": "markdown",
   "metadata": {},
   "source": [
    "# Erase features that have high correlation with features\n",
    "\n",
    "remove Hydro pumped storage[MWh], since it is with low correlation to labels and Fossil gas[MWh] has higher correlation with labels."
   ]
  },
  {
   "cell_type": "code",
   "execution_count": 18,
   "metadata": {},
   "outputs": [],
   "source": [
    "csv_data =csv_data.drop(['Hydro pumped storage[MWh]'],axis=1)"
   ]
  },
  {
   "cell_type": "code",
   "execution_count": 19,
   "metadata": {},
   "outputs": [
    {
     "name": "stdout",
     "output_type": "stream",
     "text": [
      "Precharge Top Absolute Correlations\n",
      "Time of day         Fossil gas[MWh]       0.691456\n",
      "                    Spot price            0.675316\n",
      "                    Residual load[MWh]    0.587737\n",
      "Fossil gas[MWh]     Spot price            0.461284\n",
      "Residual load[MWh]  Spot price            0.446594\n",
      "Total[MWh]          Residual load[MWh]    0.307261\n",
      "Fossil gas[MWh]     Total[MWh]            0.118605\n",
      "Total[MWh]          Spot price            0.092792\n",
      "Fossil gas[MWh]     Residual load[MWh]    0.085444\n",
      "Time of day         Total[MWh]            0.009232\n",
      "dtype: float64\n"
     ]
    }
   ],
   "source": [
    "corr_mat2 = csv_data.corr(method='pearson')\n",
    "print(\"Precharge Top Absolute Correlations\")\n",
    "print(get_top_abs_correlations(corr_mat2, 10))"
   ]
  },
  {
   "cell_type": "markdown",
   "metadata": {},
   "source": [
    "# Erase features that have high correlation with features\n",
    "\n",
    "remove Total[MWh] , since it is with low correlation to labels and Residual load[MWh] has higher correlation with labels."
   ]
  },
  {
   "cell_type": "code",
   "execution_count": 20,
   "metadata": {},
   "outputs": [],
   "source": [
    "csv_data =csv_data.drop(['Total[MWh]'],axis=1)"
   ]
  },
  {
   "cell_type": "code",
   "execution_count": 21,
   "metadata": {},
   "outputs": [
    {
     "name": "stdout",
     "output_type": "stream",
     "text": [
      "Precharge Top Absolute Correlations\n",
      "Time of day         Fossil gas[MWh]       0.702083\n",
      "                    Spot price            0.692335\n",
      "                    Residual load[MWh]    0.609333\n",
      "Fossil gas[MWh]     Spot price            0.442057\n",
      "Residual load[MWh]  Spot price            0.415144\n",
      "Fossil gas[MWh]     Residual load[MWh]    0.134146\n",
      "dtype: float64\n"
     ]
    }
   ],
   "source": [
    "corr_mat2 = csv_data.corr(method='pearson')\n",
    "print(\"Precharge Top Absolute Correlations\")\n",
    "print(get_top_abs_correlations(corr_mat2, 10))"
   ]
  },
  {
   "cell_type": "markdown",
   "metadata": {},
   "source": [
    "Therefore, we have three features\n",
    "\n",
    "namely,\n",
    "'Time of day ';\n",
    "'Fossil gas[MWh] ';\n",
    "'Residual load[MWh]'\n",
    "\n",
    "First, 'Residual load[MWh]' has low correlation with other features while it has middle correlation to labels \n",
    "so definitely keep 'Residual load[MWh]';\n",
    "\n",
    "Second, 'Time of day' has high correlation with 'Fossil gas[MWh]', and 'Time of day' has highest correlation with labels;\n",
    "so definitely keep 'Time of day'.\n",
    "\n",
    "\n"
   ]
  },
  {
   "cell_type": "markdown",
   "metadata": {},
   "source": [
    "# IMPROVEMENT 1: we can try later if remove 'Fossil gas[MWh]' can improve accuracy."
   ]
  }
 ],
 "metadata": {
  "kernelspec": {
   "display_name": "Python 3",
   "language": "python",
   "name": "python3"
  },
  "language_info": {
   "codemirror_mode": {
    "name": "ipython",
    "version": 3
   },
   "file_extension": ".py",
   "mimetype": "text/x-python",
   "name": "python",
   "nbconvert_exporter": "python",
   "pygments_lexer": "ipython3",
   "version": "3.8.5"
  }
 },
 "nbformat": 4,
 "nbformat_minor": 2
}
