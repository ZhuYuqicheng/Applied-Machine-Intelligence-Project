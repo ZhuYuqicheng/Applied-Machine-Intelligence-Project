{
 "cells": [
  {
   "cell_type": "code",
   "execution_count": 91,
   "metadata": {},
   "outputs": [],
   "source": [
    "import pandas as pd\n",
    "import numpy as np\n",
    "import scipy as sp\n",
    "from scipy.stats import loguniform\n",
    "import matplotlib.pyplot as plt\n",
    "import seaborn as sns\n",
    "from sklearn.model_selection import train_test_split, KFold, GridSearchCV\n",
    "from sklearn.metrics import mean_squared_error, r2_score\n",
    "from sklearn.preprocessing import StandardScaler, LabelEncoder\n",
    "from sklearn.compose import TransformedTargetRegressor\n",
    "from sklearn.pipeline import Pipeline\n"
   ]
  },
  {
   "cell_type": "code",
   "execution_count": 92,
   "metadata": {},
   "outputs": [
    {
     "data": {
      "text/html": [
       "<div>\n",
       "<style scoped>\n",
       "    .dataframe tbody tr th:only-of-type {\n",
       "        vertical-align: middle;\n",
       "    }\n",
       "\n",
       "    .dataframe tbody tr th {\n",
       "        vertical-align: top;\n",
       "    }\n",
       "\n",
       "    .dataframe thead th {\n",
       "        text-align: right;\n",
       "    }\n",
       "</style>\n",
       "<table border=\"1\" class=\"dataframe\">\n",
       "  <thead>\n",
       "    <tr style=\"text-align: right;\">\n",
       "      <th></th>\n",
       "      <th>Date</th>\n",
       "      <th>Time of day</th>\n",
       "      <th>Biomass[MWh]</th>\n",
       "      <th>Hydropower[MWh]</th>\n",
       "      <th>Wind offshore[MWh]</th>\n",
       "      <th>Wind onshore[MWh]</th>\n",
       "      <th>Photovoltaics[MWh]</th>\n",
       "      <th>Other renewable[MWh]</th>\n",
       "      <th>Nuclear[MWh]</th>\n",
       "      <th>Fossil brown coal[MWh]</th>\n",
       "      <th>...</th>\n",
       "      <th>Residual load[MWh]</th>\n",
       "      <th>Lufttemp.+200cm</th>\n",
       "      <th>Lufttemp.+20cm</th>\n",
       "      <th>Bodentemp.-5cm</th>\n",
       "      <th>Bodentemp.-20cm</th>\n",
       "      <th>Luftfeuchtigkeit+200cm</th>\n",
       "      <th>Windgeschw.+250cm</th>\n",
       "      <th>Niederschlag</th>\n",
       "      <th>Globalstrahlg.+200cm</th>\n",
       "      <th>Spot price</th>\n",
       "    </tr>\n",
       "  </thead>\n",
       "  <tbody>\n",
       "    <tr>\n",
       "      <th>0</th>\n",
       "      <td>2015/1/1</td>\n",
       "      <td>0</td>\n",
       "      <td>1006.25</td>\n",
       "      <td>289.75</td>\n",
       "      <td>129.25</td>\n",
       "      <td>2032.00</td>\n",
       "      <td>0.0</td>\n",
       "      <td>33.00</td>\n",
       "      <td>2677.75</td>\n",
       "      <td>3922.00</td>\n",
       "      <td>...</td>\n",
       "      <td>1380.75</td>\n",
       "      <td>2.9</td>\n",
       "      <td>2.0</td>\n",
       "      <td>3.1</td>\n",
       "      <td>3.4</td>\n",
       "      <td>100.0</td>\n",
       "      <td>1.5</td>\n",
       "      <td>0.0</td>\n",
       "      <td>39.0</td>\n",
       "      <td>25.02</td>\n",
       "    </tr>\n",
       "    <tr>\n",
       "      <th>1</th>\n",
       "      <td>2015/1/1</td>\n",
       "      <td>1</td>\n",
       "      <td>995.75</td>\n",
       "      <td>297.00</td>\n",
       "      <td>129.00</td>\n",
       "      <td>2074.25</td>\n",
       "      <td>0.0</td>\n",
       "      <td>30.75</td>\n",
       "      <td>2771.50</td>\n",
       "      <td>3830.75</td>\n",
       "      <td>...</td>\n",
       "      <td>1229.75</td>\n",
       "      <td>2.9</td>\n",
       "      <td>2.0</td>\n",
       "      <td>3.1</td>\n",
       "      <td>3.4</td>\n",
       "      <td>100.0</td>\n",
       "      <td>1.5</td>\n",
       "      <td>0.0</td>\n",
       "      <td>39.0</td>\n",
       "      <td>18.29</td>\n",
       "    </tr>\n",
       "    <tr>\n",
       "      <th>2</th>\n",
       "      <td>2015/1/1</td>\n",
       "      <td>2</td>\n",
       "      <td>1005.00</td>\n",
       "      <td>284.75</td>\n",
       "      <td>128.50</td>\n",
       "      <td>2135.25</td>\n",
       "      <td>0.0</td>\n",
       "      <td>23.50</td>\n",
       "      <td>2756.50</td>\n",
       "      <td>3704.50</td>\n",
       "      <td>...</td>\n",
       "      <td>1126.25</td>\n",
       "      <td>2.9</td>\n",
       "      <td>2.0</td>\n",
       "      <td>3.1</td>\n",
       "      <td>3.4</td>\n",
       "      <td>100.0</td>\n",
       "      <td>1.5</td>\n",
       "      <td>0.0</td>\n",
       "      <td>39.0</td>\n",
       "      <td>16.04</td>\n",
       "    </tr>\n",
       "    <tr>\n",
       "      <th>3</th>\n",
       "      <td>2015/1/1</td>\n",
       "      <td>3</td>\n",
       "      <td>1010.50</td>\n",
       "      <td>280.50</td>\n",
       "      <td>129.75</td>\n",
       "      <td>2138.25</td>\n",
       "      <td>0.0</td>\n",
       "      <td>22.00</td>\n",
       "      <td>2757.00</td>\n",
       "      <td>3518.75</td>\n",
       "      <td>...</td>\n",
       "      <td>1141.00</td>\n",
       "      <td>2.9</td>\n",
       "      <td>2.0</td>\n",
       "      <td>3.1</td>\n",
       "      <td>3.4</td>\n",
       "      <td>100.0</td>\n",
       "      <td>1.5</td>\n",
       "      <td>0.0</td>\n",
       "      <td>39.0</td>\n",
       "      <td>14.60</td>\n",
       "    </tr>\n",
       "    <tr>\n",
       "      <th>4</th>\n",
       "      <td>2015/1/1</td>\n",
       "      <td>4</td>\n",
       "      <td>1009.75</td>\n",
       "      <td>278.00</td>\n",
       "      <td>130.00</td>\n",
       "      <td>2161.00</td>\n",
       "      <td>0.0</td>\n",
       "      <td>22.00</td>\n",
       "      <td>2740.75</td>\n",
       "      <td>3529.00</td>\n",
       "      <td>...</td>\n",
       "      <td>1170.25</td>\n",
       "      <td>2.9</td>\n",
       "      <td>2.0</td>\n",
       "      <td>3.1</td>\n",
       "      <td>3.4</td>\n",
       "      <td>100.0</td>\n",
       "      <td>1.5</td>\n",
       "      <td>0.0</td>\n",
       "      <td>39.0</td>\n",
       "      <td>14.95</td>\n",
       "    </tr>\n",
       "  </tbody>\n",
       "</table>\n",
       "<p>5 rows × 25 columns</p>\n",
       "</div>"
      ],
      "text/plain": [
       "       Date  Time of day  Biomass[MWh]  Hydropower[MWh]  Wind offshore[MWh]  \\\n",
       "0  2015/1/1            0       1006.25           289.75              129.25   \n",
       "1  2015/1/1            1        995.75           297.00              129.00   \n",
       "2  2015/1/1            2       1005.00           284.75              128.50   \n",
       "3  2015/1/1            3       1010.50           280.50              129.75   \n",
       "4  2015/1/1            4       1009.75           278.00              130.00   \n",
       "\n",
       "   Wind onshore[MWh]  Photovoltaics[MWh]  Other renewable[MWh]  Nuclear[MWh]  \\\n",
       "0            2032.00                 0.0                 33.00       2677.75   \n",
       "1            2074.25                 0.0                 30.75       2771.50   \n",
       "2            2135.25                 0.0                 23.50       2756.50   \n",
       "3            2138.25                 0.0                 22.00       2757.00   \n",
       "4            2161.00                 0.0                 22.00       2740.75   \n",
       "\n",
       "   Fossil brown coal[MWh]  ...  Residual load[MWh]  Lufttemp.+200cm  \\\n",
       "0                 3922.00  ...             1380.75              2.9   \n",
       "1                 3830.75  ...             1229.75              2.9   \n",
       "2                 3704.50  ...             1126.25              2.9   \n",
       "3                 3518.75  ...             1141.00              2.9   \n",
       "4                 3529.00  ...             1170.25              2.9   \n",
       "\n",
       "   Lufttemp.+20cm  Bodentemp.-5cm  Bodentemp.-20cm  Luftfeuchtigkeit+200cm  \\\n",
       "0             2.0             3.1              3.4                   100.0   \n",
       "1             2.0             3.1              3.4                   100.0   \n",
       "2             2.0             3.1              3.4                   100.0   \n",
       "3             2.0             3.1              3.4                   100.0   \n",
       "4             2.0             3.1              3.4                   100.0   \n",
       "\n",
       "   Windgeschw.+250cm  Niederschlag  Globalstrahlg.+200cm  Spot price  \n",
       "0                1.5           0.0                  39.0       25.02  \n",
       "1                1.5           0.0                  39.0       18.29  \n",
       "2                1.5           0.0                  39.0       16.04  \n",
       "3                1.5           0.0                  39.0       14.60  \n",
       "4                1.5           0.0                  39.0       14.95  \n",
       "\n",
       "[5 rows x 25 columns]"
      ]
     },
     "execution_count": 92,
     "metadata": {},
     "output_type": "execute_result"
    }
   ],
   "source": [
    "csv_data = pd.read_csv('C:/Users/暴脾气の尧/Desktop/#TUM 2 SEMESTER/Applied Machine Intelligence/elec_forecast.csv')\n",
    "#C:/Users/U388316/OneDrive - Danfoss/Desktop/usb_tum/ami/Han-20210616T220428Z-001/Han/elec_forecast.csv\n",
    "csv_data.head()"
   ]
  },
  {
   "cell_type": "markdown",
   "metadata": {},
   "source": [
    "From linear correlation analysis, we only keep three features:\n",
    "'Time of day'; 'Fossil gas[MWh]'; 'Residual load[MWh]'"
   ]
  },
  {
   "cell_type": "code",
   "execution_count": 122,
   "metadata": {},
   "outputs": [],
   "source": [
    "data = csv_data[[ 'Time of day','Fossil gas[MWh]', 'Residual load[MWh]','Spot price']]\n",
    "#data['Fossil gas[MWh] square'] = np.log(data[ 'Fossil gas[MWh]'])\n",
    "data.head()\n",
    "data2 = csv_data[['Time of day', 'Biomass[MWh]','Wind onshore[MWh]', 'Fossil gas[MWh]','Other renewable[MWh]', 'Residual load[MWh]','Spot price']]"
   ]
  },
  {
   "cell_type": "code",
   "execution_count": 5,
   "metadata": {
    "scrolled": true
   },
   "outputs": [
    {
     "name": "stdout",
     "output_type": "stream",
     "text": [
      "<class 'pandas.core.frame.DataFrame'>\n",
      "RangeIndex: 56220 entries, 0 to 56219\n",
      "Data columns (total 4 columns):\n",
      "Time of day           56220 non-null int64\n",
      "Fossil gas[MWh]       56124 non-null float64\n",
      "Residual load[MWh]    54530 non-null float64\n",
      "Spot price            56220 non-null float64\n",
      "dtypes: float64(3), int64(1)\n",
      "memory usage: 1.7 MB\n"
     ]
    }
   ],
   "source": [
    "data.info()"
   ]
  },
  {
   "cell_type": "code",
   "execution_count": 6,
   "metadata": {
    "scrolled": true
   },
   "outputs": [
    {
     "data": {
      "text/plain": [
       "Time of day              0\n",
       "Fossil gas[MWh]         96\n",
       "Residual load[MWh]    1690\n",
       "Spot price               0\n",
       "dtype: int64"
      ]
     },
     "execution_count": 6,
     "metadata": {},
     "output_type": "execute_result"
    }
   ],
   "source": [
    "data.isnull().sum()"
   ]
  },
  {
   "cell_type": "markdown",
   "metadata": {},
   "source": [
    "# IMPROVEMENT 2: we can try different ways to fit missing values:\n",
    "\n",
    "we have many fucking missing values for Residual load[MWh]\n",
    "\n",
    "1. data1 = data.fillna(0)\n",
    "2. data2 = data.fillna(data.mean())\n",
    "3. data3 = data.fillna(method='bfill')\n",
    "4. data4 = data.interpolate()\n",
    "5. data5 = ml_fit_missing(data) # use ml to fit data, Zhuyu has tried so I dont wanna repeat\n",
    "6. data6 = dl_fit_missing(data) # use dl to fit data, missed info, only adaptable to sufficient large dataset\n",
    "\n",
    "It turns out that different methods lead to only slight change, one reason may be that the percentage of missing data is quite small\n"
   ]
  },
  {
   "cell_type": "code",
   "execution_count": 7,
   "metadata": {
    "scrolled": true
   },
   "outputs": [
    {
     "name": "stderr",
     "output_type": "stream",
     "text": [
      "2021-06-18 21:52:20,692 [INFO]  \n",
      "========== start: fit model\n",
      "2021-06-18 21:52:20,693 [WARNING]  Already bound, ignoring bind()\n",
      "2021-06-18 21:52:22,275 [INFO]  Epoch[0] Batch [0-1265]\tSpeed: 13099.41 samples/sec\tcross-entropy=10.726536\tFossil gas[MWh]-accuracy=0.026066\n",
      "2021-06-18 21:52:23,792 [INFO]  Epoch[0] Train-cross-entropy=10.817361\n",
      "2021-06-18 21:52:23,793 [INFO]  Epoch[0] Train-Fossil gas[MWh]-accuracy=0.026087\n",
      "2021-06-18 21:52:23,794 [INFO]  Epoch[0] Time cost=3.095\n",
      "2021-06-18 21:52:23,803 [INFO]  Saved checkpoint to \"imputer_model\\model-0000.params\"\n",
      "2021-06-18 21:52:23,941 [INFO]  Epoch[0] Validation-cross-entropy=11.269368\n",
      "2021-06-18 21:52:23,942 [INFO]  Epoch[0] Validation-Fossil gas[MWh]-accuracy=0.000000\n",
      "2021-06-18 21:52:25,393 [INFO]  Epoch[1] Batch [0-1265]\tSpeed: 13986.32 samples/sec\tcross-entropy=10.410601\tFossil gas[MWh]-accuracy=0.026066\n",
      "2021-06-18 21:52:26,801 [INFO]  Epoch[1] Train-cross-entropy=10.596464\n",
      "2021-06-18 21:52:26,802 [INFO]  Epoch[1] Train-Fossil gas[MWh]-accuracy=0.026087\n",
      "2021-06-18 21:52:26,803 [INFO]  Epoch[1] Time cost=2.859\n",
      "2021-06-18 21:52:26,810 [INFO]  Saved checkpoint to \"imputer_model\\model-0001.params\"\n",
      "2021-06-18 21:52:26,954 [INFO]  Epoch[1] Validation-cross-entropy=11.174244\n",
      "2021-06-18 21:52:26,956 [INFO]  Epoch[1] Validation-Fossil gas[MWh]-accuracy=0.000000\n",
      "2021-06-18 21:52:28,452 [INFO]  Epoch[2] Batch [0-1265]\tSpeed: 13565.60 samples/sec\tcross-entropy=10.325824\tFossil gas[MWh]-accuracy=0.026066\n",
      "2021-06-18 21:52:29,820 [INFO]  Epoch[2] Train-cross-entropy=10.520759\n",
      "2021-06-18 21:52:29,821 [INFO]  Epoch[2] Train-Fossil gas[MWh]-accuracy=0.026087\n",
      "2021-06-18 21:52:29,822 [INFO]  Epoch[2] Time cost=2.865\n",
      "2021-06-18 21:52:29,828 [INFO]  Saved checkpoint to \"imputer_model\\model-0002.params\"\n",
      "2021-06-18 21:52:29,970 [INFO]  Epoch[2] Validation-cross-entropy=11.100381\n",
      "2021-06-18 21:52:29,972 [INFO]  Epoch[2] Validation-Fossil gas[MWh]-accuracy=0.000000\n",
      "2021-06-18 21:52:31,374 [INFO]  Epoch[3] Batch [0-1265]\tSpeed: 14464.83 samples/sec\tcross-entropy=10.283447\tFossil gas[MWh]-accuracy=0.026066\n",
      "2021-06-18 21:52:32,836 [INFO]  Epoch[3] Train-cross-entropy=10.486118\n",
      "2021-06-18 21:52:32,837 [INFO]  Epoch[3] Train-Fossil gas[MWh]-accuracy=0.026087\n",
      "2021-06-18 21:52:32,838 [INFO]  Epoch[3] Time cost=2.864\n",
      "2021-06-18 21:52:32,843 [INFO]  Saved checkpoint to \"imputer_model\\model-0003.params\"\n",
      "2021-06-18 21:52:32,987 [INFO]  Epoch[3] Validation-cross-entropy=11.054121\n",
      "2021-06-18 21:52:32,988 [INFO]  Epoch[3] Validation-Fossil gas[MWh]-accuracy=0.000000\n",
      "2021-06-18 21:52:34,352 [INFO]  Epoch[4] Batch [0-1265]\tSpeed: 14878.39 samples/sec\tcross-entropy=10.262984\tFossil gas[MWh]-accuracy=0.026066\n",
      "2021-06-18 21:52:35,574 [INFO]  Epoch[4] Train-cross-entropy=10.465277\n",
      "2021-06-18 21:52:35,575 [INFO]  Epoch[4] Train-Fossil gas[MWh]-accuracy=0.026087\n",
      "2021-06-18 21:52:35,576 [INFO]  Epoch[4] Time cost=2.587\n",
      "2021-06-18 21:52:35,584 [INFO]  Saved checkpoint to \"imputer_model\\model-0004.params\"\n",
      "2021-06-18 21:52:35,708 [INFO]  Epoch[4] Validation-cross-entropy=10.979835\n",
      "2021-06-18 21:52:35,709 [INFO]  Epoch[4] Validation-Fossil gas[MWh]-accuracy=0.000000\n",
      "2021-06-18 21:52:37,075 [INFO]  Epoch[5] Batch [0-1265]\tSpeed: 14856.29 samples/sec\tcross-entropy=10.244060\tFossil gas[MWh]-accuracy=0.026066\n",
      "2021-06-18 21:52:38,438 [INFO]  Epoch[5] Train-cross-entropy=10.445623\n",
      "2021-06-18 21:52:38,439 [INFO]  Epoch[5] Train-Fossil gas[MWh]-accuracy=0.026087\n",
      "2021-06-18 21:52:38,441 [INFO]  Epoch[5] Time cost=2.731\n",
      "2021-06-18 21:52:38,448 [INFO]  Saved checkpoint to \"imputer_model\\model-0005.params\"\n",
      "2021-06-18 21:52:38,575 [INFO]  Epoch[5] Validation-cross-entropy=10.926863\n",
      "2021-06-18 21:52:38,577 [INFO]  Epoch[5] Validation-Fossil gas[MWh]-accuracy=0.000000\n",
      "2021-06-18 21:52:39,927 [INFO]  Epoch[6] Batch [0-1265]\tSpeed: 15025.13 samples/sec\tcross-entropy=10.228227\tFossil gas[MWh]-accuracy=0.026066\n",
      "2021-06-18 21:52:41,167 [INFO]  Epoch[6] Train-cross-entropy=10.429250\n",
      "2021-06-18 21:52:41,168 [INFO]  Epoch[6] Train-Fossil gas[MWh]-accuracy=0.026087\n",
      "2021-06-18 21:52:41,170 [INFO]  Epoch[6] Time cost=2.592\n",
      "2021-06-18 21:52:41,175 [INFO]  Saved checkpoint to \"imputer_model\\model-0006.params\"\n",
      "2021-06-18 21:52:41,309 [INFO]  Epoch[6] Validation-cross-entropy=10.870532\n",
      "2021-06-18 21:52:41,311 [INFO]  Epoch[6] Validation-Fossil gas[MWh]-accuracy=0.000000\n",
      "2021-06-18 21:52:42,861 [INFO]  Epoch[7] Batch [0-1265]\tSpeed: 13088.53 samples/sec\tcross-entropy=10.218181\tFossil gas[MWh]-accuracy=0.026066\n",
      "2021-06-18 21:52:44,366 [INFO]  Epoch[7] Train-cross-entropy=10.417304\n",
      "2021-06-18 21:52:44,367 [INFO]  Epoch[7] Train-Fossil gas[MWh]-accuracy=0.026087\n",
      "2021-06-18 21:52:44,368 [INFO]  Epoch[7] Time cost=3.055\n",
      "2021-06-18 21:52:44,375 [INFO]  Saved checkpoint to \"imputer_model\\model-0007.params\"\n",
      "2021-06-18 21:52:44,527 [INFO]  Epoch[7] Validation-cross-entropy=10.840453\n",
      "2021-06-18 21:52:44,529 [INFO]  Epoch[7] Validation-Fossil gas[MWh]-accuracy=0.000000\n",
      "2021-06-18 21:52:45,891 [INFO]  Epoch[8] Batch [0-1265]\tSpeed: 14894.62 samples/sec\tcross-entropy=10.211645\tFossil gas[MWh]-accuracy=0.026066\n",
      "2021-06-18 21:52:47,328 [INFO]  Epoch[8] Train-cross-entropy=10.409212\n",
      "2021-06-18 21:52:47,330 [INFO]  Epoch[8] Train-Fossil gas[MWh]-accuracy=0.026087\n",
      "2021-06-18 21:52:47,330 [INFO]  Epoch[8] Time cost=2.800\n",
      "2021-06-18 21:52:47,336 [INFO]  Saved checkpoint to \"imputer_model\\model-0008.params\"\n",
      "2021-06-18 21:52:47,458 [INFO]  Epoch[8] Validation-cross-entropy=10.821423\n",
      "2021-06-18 21:52:47,460 [INFO]  Epoch[8] Validation-Fossil gas[MWh]-accuracy=0.000000\n",
      "2021-06-18 21:52:48,785 [INFO]  Epoch[9] Batch [0-1265]\tSpeed: 15304.24 samples/sec\tcross-entropy=10.207413\tFossil gas[MWh]-accuracy=0.026066\n",
      "2021-06-18 21:52:50,165 [INFO]  Epoch[9] Train-cross-entropy=10.403884\n",
      "2021-06-18 21:52:50,166 [INFO]  Epoch[9] Train-Fossil gas[MWh]-accuracy=0.026087\n",
      "2021-06-18 21:52:50,168 [INFO]  Epoch[9] Time cost=2.707\n",
      "2021-06-18 21:52:50,173 [INFO]  Saved checkpoint to \"imputer_model\\model-0009.params\"\n",
      "2021-06-18 21:52:50,319 [INFO]  Epoch[9] Validation-cross-entropy=10.808299\n",
      "2021-06-18 21:52:50,320 [INFO]  Epoch[9] Validation-Fossil gas[MWh]-accuracy=0.000000\n",
      "2021-06-18 21:52:50,321 [INFO]  \n",
      "========== done (29.63019633293152 s) fit model\n"
     ]
    },
    {
     "name": "stdout",
     "output_type": "stream",
     "text": [
      "<class 'pandas.core.frame.DataFrame'>\n",
      "Int64Index: 11244 entries, 22768 to 17673\n",
      "Data columns (total 5 columns):\n",
      "Time of day                11244 non-null int64\n",
      "Fossil gas[MWh]            11221 non-null float64\n",
      "Residual load[MWh]         10912 non-null float64\n",
      "Spot price                 11244 non-null float64\n",
      "Fossil gas[MWh]_imputed    11244 non-null float64\n",
      "dtypes: float64(4), int64(1)\n",
      "memory usage: 527.1 KB\n"
     ]
    }
   ],
   "source": [
    "#dl to fit missing data\n",
    "import datawig\n",
    "df_train, df_test = datawig.utils.random_split(data)\n",
    "\n",
    "#初始化一个简单的imputer模型\n",
    "imputer = datawig.SimpleImputer(\n",
    "    input_columns=['Time of day','Spot price'], # 我们要输入的列\n",
    "    output_column= 'Fossil gas[MWh]', # 我们要为其注入值的列\n",
    "    output_path = 'imputer_model' #存储模型数据和度量\n",
    "    )\n",
    "\n",
    "#拟合训练数据的模型\n",
    "imputer.fit(train_df=df_train, num_epochs=10)\n",
    "\n",
    "#输入丢失的值并返回原始的数据模型和预测\n",
    "imputed = imputer.predict(df_test)\n",
    "imputed.info()"
   ]
  },
  {
   "cell_type": "markdown",
   "metadata": {},
   "source": [
    "From above we can see that dl datawig can fill missing values but lost many info\n",
    "so try other methods"
   ]
  },
  {
   "cell_type": "code",
   "execution_count": 123,
   "metadata": {},
   "outputs": [],
   "source": [
    "#general approach to fit missing data\n",
    "data = data.fillna(method='bfill')\n",
    "data2 = data2.fillna(method='bfill')"
   ]
  },
  {
   "cell_type": "code",
   "execution_count": 135,
   "metadata": {},
   "outputs": [],
   "source": [
    "train = data[:52595]\n",
    "test = data[52596:]\n",
    "X_train = train.iloc[:, :-1]\n",
    "Y_train = train.iloc[:, -1:]\n",
    "X_test = test.iloc[:, :-1]\n",
    "Y_test = test.iloc[:, -1:]\n",
    "\n",
    "scx = StandardScaler() #可选 https://blog.csdn.net/houhuipeng/article/details/93900759\n",
    "scy = StandardScaler() \n",
    "cv = KFold(n_splits=10,shuffle=True,random_state=1) #可选 https://scikit-learn.org/0.23/modules/cross_validation.html#cross-validation-and-model-selection\n"
   ]
  },
  {
   "cell_type": "markdown",
   "metadata": {},
   "source": [
    "# IMPROVEMENT 3: we can try different ML algorithms"
   ]
  },
  {
   "cell_type": "code",
   "execution_count": 139,
   "metadata": {},
   "outputs": [],
   "source": [
    "#如果用岭回归\n",
    "from sklearn.linear_model import Ridge\n",
    "reg = Ridge()\n",
    "space = dict()\n",
    "space['regressor__regression__solver'] = ['svd', 'cholesky', 'lsqr', 'sag']\n",
    "space['regressor__regression__alpha'] = [1e-4, 1e-3, 5e-3, 1e-2, 5e-2, 1e-1,5e-1, 1,2,5,10,20,50, 100, 200]"
   ]
  },
  {
   "cell_type": "code",
   "execution_count": 76,
   "metadata": {},
   "outputs": [],
   "source": [
    "#如果用随机森林\n",
    "from sklearn.ensemble import RandomForestRegressor\n",
    "reg = RandomForestRegressor()\n",
    "space = dict() \n",
    "space['regressor__regression__n_estimators'] = [20,50,70]\n",
    "space['regressor__regression__max_depth'] = [1,3,5]\n",
    "#space['regressor__regression__n_estimators'] = [10,30,50,70,100]\n",
    "#space['regressor__regression__max_depth'] = [3,5,10,15,20]"
   ]
  },
  {
   "cell_type": "code",
   "execution_count": 43,
   "metadata": {},
   "outputs": [],
   "source": [
    "#如果用Lasso：\n",
    "from sklearn.linear_model import Lasso\n",
    "reg = Lasso()\n",
    "space = dict()\n",
    "space['regressor__regression__selection'] = ['random', 'cyclic']\n",
    "space['regressor__regression__alpha'] = [0.001, 0.01, 0.1, 1, 10, 100]"
   ]
  },
  {
   "cell_type": "code",
   "execution_count": 137,
   "metadata": {},
   "outputs": [
    {
     "name": "stdout",
     "output_type": "stream",
     "text": [
      "Best CV-RMSE: 10.82\n",
      "{'regressor__regression__alpha': 0.001, 'regressor__regression__solver': 'sag'}\n",
      "Training RMSE: 10.82\n",
      "Test RMSE: 19.70\n",
      "Training R2: 0.49\n",
      "Test R2: -0.10\n"
     ]
    }
   ],
   "source": [
    "pipe = Pipeline([('scaler', scx), \n",
    "                 ('regression', reg)])\n",
    "model = TransformedTargetRegressor(regressor=pipe, transformer=scy) #注意scx，reg，pipe，scy都可以自己设置\n",
    "gs = GridSearchCV(model, space, scoring='neg_root_mean_squared_error', n_jobs=1, cv=cv, refit=True) #n_jobs=-1更快但有可能会报错\n",
    "gs.fit(X_train,Y_train)\n",
    "print(\"Best CV-RMSE: {:.2f}\".format(-gs.best_score_)) #print结果\n",
    "print(gs.best_params_)\n",
    "\n",
    "Y_pred_train = gs.predict(X_train)\n",
    "Y_pred_test = gs.predict(X_test)\n",
    "print(\"Training RMSE: {:.2f}\".format(np.sqrt(mean_squared_error(Y_train, Y_pred_train)))) \n",
    "print(\"Test RMSE: {:.2f}\".format(np.sqrt(mean_squared_error(Y_test, Y_pred_test))))\n",
    "print(\"Training R2: {:.2f}\".format(r2_score(Y_train, Y_pred_train))) \n",
    "print(\"Test R2: {:.2f}\".format(r2_score(Y_test, Y_pred_test)))"
   ]
  },
  {
   "cell_type": "markdown",
   "metadata": {},
   "source": [
    "IMPROVEMENT 4: we can try different split size\n",
    "IMPROVEMENT 5: we can try different random_state\n",
    "IMPROVEMENT 6: we can try more precise hyperparameter"
   ]
  },
  {
   "cell_type": "markdown",
   "metadata": {},
   "source": []
  },
  {
   "cell_type": "markdown",
   "metadata": {},
   "source": [
    "No matter how we adjust the hyperparameter, the accurary would be just around 49%, \n",
    "but once we use randomforest, the accuracy suddenly increases to 64% \n",
    "Since RF is a type of non-linear regression, this might be due to non-linear properties of data\n",
    "In this notebook I used pearson coeff (linear correlation) since I wanted to use linear regression to fit data\n",
    "So, next step is to try spearman coeff (non-linear correlation) to decide which features to drop\n",
    "Then, utilize non-linear regression, for instance RF"
   ]
  },
  {
   "cell_type": "code",
   "execution_count": null,
   "metadata": {},
   "outputs": [],
   "source": []
  }
 ],
 "metadata": {
  "kernelspec": {
   "display_name": "Python 3",
   "language": "python",
   "name": "python3"
  },
  "language_info": {
   "codemirror_mode": {
    "name": "ipython",
    "version": 3
   },
   "file_extension": ".py",
   "mimetype": "text/x-python",
   "name": "python",
   "nbconvert_exporter": "python",
   "pygments_lexer": "ipython3",
   "version": "3.8.5"
  }
 },
 "nbformat": 4,
 "nbformat_minor": 4
}
