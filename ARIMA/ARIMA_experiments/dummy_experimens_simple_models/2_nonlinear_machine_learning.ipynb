{
 "cells": [
  {
   "cell_type": "code",
   "execution_count": 36,
   "metadata": {},
   "outputs": [],
   "source": [
    "import pandas as pd\n",
    "import numpy as np\n",
    "import scipy as sp\n",
    "from scipy.stats import loguniform\n",
    "import matplotlib.pyplot as plt\n",
    "import seaborn as sns\n",
    "from sklearn.model_selection import train_test_split, KFold, GridSearchCV\n",
    "from sklearn.metrics import mean_squared_error, r2_score\n",
    "from sklearn.preprocessing import StandardScaler, LabelEncoder\n",
    "from sklearn.compose import TransformedTargetRegressor\n",
    "from sklearn.pipeline import Pipeline"
   ]
  },
  {
   "cell_type": "code",
   "execution_count": 62,
   "metadata": {},
   "outputs": [
    {
     "data": {
      "text/html": [
       "<div>\n",
       "<style scoped>\n",
       "    .dataframe tbody tr th:only-of-type {\n",
       "        vertical-align: middle;\n",
       "    }\n",
       "\n",
       "    .dataframe tbody tr th {\n",
       "        vertical-align: top;\n",
       "    }\n",
       "\n",
       "    .dataframe thead th {\n",
       "        text-align: right;\n",
       "    }\n",
       "</style>\n",
       "<table border=\"1\" class=\"dataframe\">\n",
       "  <thead>\n",
       "    <tr style=\"text-align: right;\">\n",
       "      <th></th>\n",
       "      <th>Date</th>\n",
       "      <th>Time of day</th>\n",
       "      <th>Biomass[MWh]</th>\n",
       "      <th>Hydropower[MWh]</th>\n",
       "      <th>Wind offshore[MWh]</th>\n",
       "      <th>Wind onshore[MWh]</th>\n",
       "      <th>Photovoltaics[MWh]</th>\n",
       "      <th>Other renewable[MWh]</th>\n",
       "      <th>Nuclear[MWh]</th>\n",
       "      <th>Fossil brown coal[MWh]</th>\n",
       "      <th>...</th>\n",
       "      <th>Residual load[MWh]</th>\n",
       "      <th>Lufttemp.+200cm</th>\n",
       "      <th>Lufttemp.+20cm</th>\n",
       "      <th>Bodentemp.-5cm</th>\n",
       "      <th>Bodentemp.-20cm</th>\n",
       "      <th>Luftfeuchtigkeit+200cm</th>\n",
       "      <th>Windgeschw.+250cm</th>\n",
       "      <th>Niederschlag</th>\n",
       "      <th>Globalstrahlg.+200cm</th>\n",
       "      <th>Spot price</th>\n",
       "    </tr>\n",
       "  </thead>\n",
       "  <tbody>\n",
       "    <tr>\n",
       "      <th>0</th>\n",
       "      <td>2015/1/1</td>\n",
       "      <td>0</td>\n",
       "      <td>1006.25</td>\n",
       "      <td>289.75</td>\n",
       "      <td>129.25</td>\n",
       "      <td>2032.00</td>\n",
       "      <td>0.0</td>\n",
       "      <td>33.00</td>\n",
       "      <td>2677.75</td>\n",
       "      <td>3922.00</td>\n",
       "      <td>...</td>\n",
       "      <td>1380.75</td>\n",
       "      <td>2.9</td>\n",
       "      <td>2.0</td>\n",
       "      <td>3.1</td>\n",
       "      <td>3.4</td>\n",
       "      <td>100.0</td>\n",
       "      <td>1.5</td>\n",
       "      <td>0.0</td>\n",
       "      <td>39.0</td>\n",
       "      <td>25.02</td>\n",
       "    </tr>\n",
       "    <tr>\n",
       "      <th>1</th>\n",
       "      <td>2015/1/1</td>\n",
       "      <td>1</td>\n",
       "      <td>995.75</td>\n",
       "      <td>297.00</td>\n",
       "      <td>129.00</td>\n",
       "      <td>2074.25</td>\n",
       "      <td>0.0</td>\n",
       "      <td>30.75</td>\n",
       "      <td>2771.50</td>\n",
       "      <td>3830.75</td>\n",
       "      <td>...</td>\n",
       "      <td>1229.75</td>\n",
       "      <td>2.9</td>\n",
       "      <td>2.0</td>\n",
       "      <td>3.1</td>\n",
       "      <td>3.4</td>\n",
       "      <td>100.0</td>\n",
       "      <td>1.5</td>\n",
       "      <td>0.0</td>\n",
       "      <td>39.0</td>\n",
       "      <td>18.29</td>\n",
       "    </tr>\n",
       "    <tr>\n",
       "      <th>2</th>\n",
       "      <td>2015/1/1</td>\n",
       "      <td>2</td>\n",
       "      <td>1005.00</td>\n",
       "      <td>284.75</td>\n",
       "      <td>128.50</td>\n",
       "      <td>2135.25</td>\n",
       "      <td>0.0</td>\n",
       "      <td>23.50</td>\n",
       "      <td>2756.50</td>\n",
       "      <td>3704.50</td>\n",
       "      <td>...</td>\n",
       "      <td>1126.25</td>\n",
       "      <td>2.9</td>\n",
       "      <td>2.0</td>\n",
       "      <td>3.1</td>\n",
       "      <td>3.4</td>\n",
       "      <td>100.0</td>\n",
       "      <td>1.5</td>\n",
       "      <td>0.0</td>\n",
       "      <td>39.0</td>\n",
       "      <td>16.04</td>\n",
       "    </tr>\n",
       "    <tr>\n",
       "      <th>3</th>\n",
       "      <td>2015/1/1</td>\n",
       "      <td>3</td>\n",
       "      <td>1010.50</td>\n",
       "      <td>280.50</td>\n",
       "      <td>129.75</td>\n",
       "      <td>2138.25</td>\n",
       "      <td>0.0</td>\n",
       "      <td>22.00</td>\n",
       "      <td>2757.00</td>\n",
       "      <td>3518.75</td>\n",
       "      <td>...</td>\n",
       "      <td>1141.00</td>\n",
       "      <td>2.9</td>\n",
       "      <td>2.0</td>\n",
       "      <td>3.1</td>\n",
       "      <td>3.4</td>\n",
       "      <td>100.0</td>\n",
       "      <td>1.5</td>\n",
       "      <td>0.0</td>\n",
       "      <td>39.0</td>\n",
       "      <td>14.60</td>\n",
       "    </tr>\n",
       "    <tr>\n",
       "      <th>4</th>\n",
       "      <td>2015/1/1</td>\n",
       "      <td>4</td>\n",
       "      <td>1009.75</td>\n",
       "      <td>278.00</td>\n",
       "      <td>130.00</td>\n",
       "      <td>2161.00</td>\n",
       "      <td>0.0</td>\n",
       "      <td>22.00</td>\n",
       "      <td>2740.75</td>\n",
       "      <td>3529.00</td>\n",
       "      <td>...</td>\n",
       "      <td>1170.25</td>\n",
       "      <td>2.9</td>\n",
       "      <td>2.0</td>\n",
       "      <td>3.1</td>\n",
       "      <td>3.4</td>\n",
       "      <td>100.0</td>\n",
       "      <td>1.5</td>\n",
       "      <td>0.0</td>\n",
       "      <td>39.0</td>\n",
       "      <td>14.95</td>\n",
       "    </tr>\n",
       "  </tbody>\n",
       "</table>\n",
       "<p>5 rows × 25 columns</p>\n",
       "</div>"
      ],
      "text/plain": [
       "       Date  Time of day  Biomass[MWh]  Hydropower[MWh]  Wind offshore[MWh]  \\\n",
       "0  2015/1/1            0       1006.25           289.75              129.25   \n",
       "1  2015/1/1            1        995.75           297.00              129.00   \n",
       "2  2015/1/1            2       1005.00           284.75              128.50   \n",
       "3  2015/1/1            3       1010.50           280.50              129.75   \n",
       "4  2015/1/1            4       1009.75           278.00              130.00   \n",
       "\n",
       "   Wind onshore[MWh]  Photovoltaics[MWh]  Other renewable[MWh]  Nuclear[MWh]  \\\n",
       "0            2032.00                 0.0                 33.00       2677.75   \n",
       "1            2074.25                 0.0                 30.75       2771.50   \n",
       "2            2135.25                 0.0                 23.50       2756.50   \n",
       "3            2138.25                 0.0                 22.00       2757.00   \n",
       "4            2161.00                 0.0                 22.00       2740.75   \n",
       "\n",
       "   Fossil brown coal[MWh]  ...  Residual load[MWh]  Lufttemp.+200cm  \\\n",
       "0                 3922.00  ...             1380.75              2.9   \n",
       "1                 3830.75  ...             1229.75              2.9   \n",
       "2                 3704.50  ...             1126.25              2.9   \n",
       "3                 3518.75  ...             1141.00              2.9   \n",
       "4                 3529.00  ...             1170.25              2.9   \n",
       "\n",
       "   Lufttemp.+20cm  Bodentemp.-5cm  Bodentemp.-20cm  Luftfeuchtigkeit+200cm  \\\n",
       "0             2.0             3.1              3.4                   100.0   \n",
       "1             2.0             3.1              3.4                   100.0   \n",
       "2             2.0             3.1              3.4                   100.0   \n",
       "3             2.0             3.1              3.4                   100.0   \n",
       "4             2.0             3.1              3.4                   100.0   \n",
       "\n",
       "   Windgeschw.+250cm  Niederschlag  Globalstrahlg.+200cm  Spot price  \n",
       "0                1.5           0.0                  39.0       25.02  \n",
       "1                1.5           0.0                  39.0       18.29  \n",
       "2                1.5           0.0                  39.0       16.04  \n",
       "3                1.5           0.0                  39.0       14.60  \n",
       "4                1.5           0.0                  39.0       14.95  \n",
       "\n",
       "[5 rows x 25 columns]"
      ]
     },
     "execution_count": 62,
     "metadata": {},
     "output_type": "execute_result"
    }
   ],
   "source": [
    "csv_data = pd.read_csv('C:/Users/暴脾气の尧/Desktop/#TUM 2 SEMESTER/Applied Machine Intelligence/elec_forecast.csv')\n",
    "#C:/Users/U388316/OneDrive - Danfoss/Desktop/usb_tum/ami/Han-20210616T220428Z-001/Han/elec_forecast.csv\n",
    "csv_data.head()"
   ]
  },
  {
   "cell_type": "code",
   "execution_count": 76,
   "metadata": {},
   "outputs": [
    {
     "data": {
      "text/html": [
       "<div>\n",
       "<style scoped>\n",
       "    .dataframe tbody tr th:only-of-type {\n",
       "        vertical-align: middle;\n",
       "    }\n",
       "\n",
       "    .dataframe tbody tr th {\n",
       "        vertical-align: top;\n",
       "    }\n",
       "\n",
       "    .dataframe thead th {\n",
       "        text-align: right;\n",
       "    }\n",
       "</style>\n",
       "<table border=\"1\" class=\"dataframe\">\n",
       "  <thead>\n",
       "    <tr style=\"text-align: right;\">\n",
       "      <th></th>\n",
       "      <th>Time of day</th>\n",
       "      <th>Wind onshore[MWh]</th>\n",
       "      <th>Fossil gas[MWh]</th>\n",
       "      <th>Hydro pumped storage[MWh]</th>\n",
       "      <th>Spot price</th>\n",
       "    </tr>\n",
       "  </thead>\n",
       "  <tbody>\n",
       "    <tr>\n",
       "      <th>0</th>\n",
       "      <td>0</td>\n",
       "      <td>2032.00</td>\n",
       "      <td>306.50</td>\n",
       "      <td>453.00</td>\n",
       "      <td>25.02</td>\n",
       "    </tr>\n",
       "    <tr>\n",
       "      <th>1</th>\n",
       "      <td>1</td>\n",
       "      <td>2074.25</td>\n",
       "      <td>217.75</td>\n",
       "      <td>272.50</td>\n",
       "      <td>18.29</td>\n",
       "    </tr>\n",
       "    <tr>\n",
       "      <th>2</th>\n",
       "      <td>2</td>\n",
       "      <td>2135.25</td>\n",
       "      <td>202.25</td>\n",
       "      <td>238.00</td>\n",
       "      <td>16.04</td>\n",
       "    </tr>\n",
       "    <tr>\n",
       "      <th>3</th>\n",
       "      <td>3</td>\n",
       "      <td>2138.25</td>\n",
       "      <td>205.25</td>\n",
       "      <td>141.75</td>\n",
       "      <td>14.60</td>\n",
       "    </tr>\n",
       "    <tr>\n",
       "      <th>4</th>\n",
       "      <td>4</td>\n",
       "      <td>2161.00</td>\n",
       "      <td>207.75</td>\n",
       "      <td>173.25</td>\n",
       "      <td>14.95</td>\n",
       "    </tr>\n",
       "  </tbody>\n",
       "</table>\n",
       "</div>"
      ],
      "text/plain": [
       "   Time of day  Wind onshore[MWh]  Fossil gas[MWh]  Hydro pumped storage[MWh]  \\\n",
       "0            0            2032.00           306.50                     453.00   \n",
       "1            1            2074.25           217.75                     272.50   \n",
       "2            2            2135.25           202.25                     238.00   \n",
       "3            3            2138.25           205.25                     141.75   \n",
       "4            4            2161.00           207.75                     173.25   \n",
       "\n",
       "   Spot price  \n",
       "0       25.02  \n",
       "1       18.29  \n",
       "2       16.04  \n",
       "3       14.60  \n",
       "4       14.95  "
      ]
     },
     "execution_count": 76,
     "metadata": {},
     "output_type": "execute_result"
    }
   ],
   "source": [
    "csv_data =csv_data[['Time of day','Wind onshore[MWh]','Fossil gas[MWh]','Hydro pumped storage[MWh]','Spot price']]\n",
    "csv_data.head()"
   ]
  },
  {
   "cell_type": "code",
   "execution_count": 64,
   "metadata": {},
   "outputs": [
    {
     "name": "stdout",
     "output_type": "stream",
     "text": [
      "52595\n"
     ]
    }
   ],
   "source": [
    "temp = csv_data['Date'].values.tolist()\n",
    "index_split_train_test = []\n",
    "for i in range(len(temp)):\n",
    "    if temp[i] == '2020/12/31':\n",
    "        index_split_train_test.append(i)\n",
    "print(index_split_train_test[len(index_split_train_test)-1]) "
   ]
  },
  {
   "cell_type": "markdown",
   "metadata": {},
   "source": [
    "We have 24 rows for one day,herefore, print the last element of index"
   ]
  },
  {
   "cell_type": "code",
   "execution_count": 65,
   "metadata": {},
   "outputs": [
    {
     "name": "stdout",
     "output_type": "stream",
     "text": [
      "2020/12/31\n",
      "2020/12/31\n",
      "2021/1/1\n",
      "2021/1/1\n"
     ]
    }
   ],
   "source": [
    "print(temp[52594])\n",
    "print(temp[52595]) # index to seperate\n",
    "print(temp[52596])\n",
    "print(temp[52597])"
   ]
  },
  {
   "cell_type": "code",
   "execution_count": 78,
   "metadata": {},
   "outputs": [
    {
     "data": {
      "text/plain": [
       "Time of day                  0\n",
       "Wind onshore[MWh]            0\n",
       "Fossil gas[MWh]              0\n",
       "Hydro pumped storage[MWh]    0\n",
       "Spot price                   0\n",
       "dtype: int64"
      ]
     },
     "execution_count": 78,
     "metadata": {},
     "output_type": "execute_result"
    }
   ],
   "source": [
    "csv_data.isnull().sum()"
   ]
  },
  {
   "cell_type": "code",
   "execution_count": 79,
   "metadata": {},
   "outputs": [
    {
     "data": {
      "text/plain": [
       "Time of day                  0\n",
       "Wind onshore[MWh]            0\n",
       "Fossil gas[MWh]              0\n",
       "Hydro pumped storage[MWh]    0\n",
       "Spot price                   0\n",
       "dtype: int64"
      ]
     },
     "execution_count": 79,
     "metadata": {},
     "output_type": "execute_result"
    }
   ],
   "source": [
    "csv_data = csv_data.fillna(csv_data.mean())\n",
    "csv_data.isnull().sum()"
   ]
  },
  {
   "cell_type": "code",
   "execution_count": 81,
   "metadata": {},
   "outputs": [],
   "source": [
    "train = csv_data[:52595]\n",
    "test = csv_data[52596:]\n",
    "\n",
    "#train = train.drop(['Date'],axis=1)\n",
    "#test = test.drop(['Date'],axis=1)\n",
    "                    \n",
    "X_train = train.iloc[:, :-1]\n",
    "Y_train = train.iloc[:, -1:]\n",
    "X_test = test.iloc[:, :-1]\n",
    "Y_test = test.iloc[:, -1:]\n",
    "scx = StandardScaler()\n",
    "scy = StandardScaler()\n",
    "cv = KFold(n_splits=10,shuffle=True,random_state=1)"
   ]
  },
  {
   "cell_type": "code",
   "execution_count": 84,
   "metadata": {},
   "outputs": [],
   "source": [
    "#如果用岭回归\n",
    "from sklearn.linear_model import Ridge\n",
    "reg = Ridge()\n",
    "space = dict()\n",
    "space['regressor__regression__solver'] = ['svd', 'cholesky', 'lsqr', 'sag']\n",
    "space['regressor__regression__alpha'] = [1e-4, 1e-3, 5e-3, 1e-2, 5e-2, 1e-1,5e-1, 1,2,5,10,20,50, 100, 200]"
   ]
  },
  {
   "cell_type": "code",
   "execution_count": 82,
   "metadata": {},
   "outputs": [],
   "source": [
    "#如果用随机森林\n",
    "from sklearn.ensemble import RandomForestRegressor\n",
    "reg = RandomForestRegressor()\n",
    "space = dict() \n",
    "space['regressor__regression__n_estimators'] = [30,50,70,100]\n",
    "space['regressor__regression__max_depth'] = [3,5,10,15,20]"
   ]
  },
  {
   "cell_type": "code",
   "execution_count": 85,
   "metadata": {},
   "outputs": [
    {
     "name": "stdout",
     "output_type": "stream",
     "text": [
      "Best CV-RMSE: 11.29\n",
      "{'regressor__regression__alpha': 0.001, 'regressor__regression__solver': 'sag'}\n",
      "Training RMSE: 11.29\n",
      "Test RMSE: 17.67\n",
      "Training R2: 0.45\n",
      "Test R2: 0.12\n"
     ]
    }
   ],
   "source": [
    "pipe = Pipeline([('scaler', scx), \n",
    "                 ('regression', reg)])\n",
    "model = TransformedTargetRegressor(regressor=pipe, transformer=scy) #注意scx，reg，pipe，scy都可以自己设置\n",
    "gs = GridSearchCV(model, space, scoring='neg_root_mean_squared_error', n_jobs=1, cv=cv, refit=True) #n_jobs=-1更快但有可能会报错\n",
    "gs.fit(X_train,Y_train)\n",
    "print(\"Best CV-RMSE: {:.2f}\".format(-gs.best_score_)) #print结果\n",
    "print(gs.best_params_)\n",
    "\n",
    "Y_pred_train = gs.predict(X_train)\n",
    "Y_pred_test = gs.predict(X_test)\n",
    "print(\"Training RMSE: {:.2f}\".format(np.sqrt(mean_squared_error(Y_train, Y_pred_train)))) \n",
    "print(\"Test RMSE: {:.2f}\".format(np.sqrt(mean_squared_error(Y_test, Y_pred_test))))\n",
    "print(\"Training R2: {:.2f}\".format(r2_score(Y_train, Y_pred_train))) \n",
    "print(\"Test R2: {:.2f}\".format(r2_score(Y_test, Y_pred_test)))"
   ]
  },
  {
   "cell_type": "code",
   "execution_count": null,
   "metadata": {},
   "outputs": [],
   "source": []
  },
  {
   "cell_type": "code",
   "execution_count": null,
   "metadata": {},
   "outputs": [],
   "source": []
  },
  {
   "cell_type": "code",
   "execution_count": null,
   "metadata": {},
   "outputs": [],
   "source": []
  },
  {
   "cell_type": "code",
   "execution_count": null,
   "metadata": {},
   "outputs": [],
   "source": []
  },
  {
   "cell_type": "code",
   "execution_count": null,
   "metadata": {},
   "outputs": [],
   "source": []
  },
  {
   "cell_type": "code",
   "execution_count": null,
   "metadata": {},
   "outputs": [],
   "source": []
  }
 ],
 "metadata": {
  "kernelspec": {
   "display_name": "Python 3",
   "language": "python",
   "name": "python3"
  },
  "language_info": {
   "codemirror_mode": {
    "name": "ipython",
    "version": 3
   },
   "file_extension": ".py",
   "mimetype": "text/x-python",
   "name": "python",
   "nbconvert_exporter": "python",
   "pygments_lexer": "ipython3",
   "version": "3.8.5"
  }
 },
 "nbformat": 4,
 "nbformat_minor": 4
}
